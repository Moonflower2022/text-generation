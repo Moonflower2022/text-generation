{
 "cells": [
  {
   "cell_type": "code",
   "execution_count": 17,
   "metadata": {},
   "outputs": [],
   "source": [
    "from datasets import load_dataset\n",
    "import random"
   ]
  },
  {
   "cell_type": "code",
   "execution_count": 18,
   "metadata": {},
   "outputs": [
    {
     "name": "stdout",
     "output_type": "stream",
     "text": [
      "Here is an example of a nested loop in Python to print every combination of numbers between 0-9, excluding any combination that contains the number 5 or repeating digits:\n",
      "\n",
      "```python\n",
      "for i in range(10):  # First digit\n",
      "    for j in range(10):  # Second digit\n",
      "        for k in range(10):  # Third digit\n",
      "            # Checking for the conditions\n",
      "            if i != 5 and j != 5 and k != 5 and i != j and i != k and j != k:\n",
      "                print(i, j, k)\n",
      "```\n",
      "\n",
      "This code will generate and print every combination of three digits between 0-9 that do not contain the number 5 and do not have any repeating digits.\n"
     ]
    }
   ],
   "source": [
    "ds = load_dataset(\"jtatman/python-code-dataset-500k\")\n",
    "print(ds[\"train\"]['output'][0])"
   ]
  },
  {
   "cell_type": "code",
   "execution_count": 19,
   "metadata": {},
   "outputs": [],
   "source": [
    "def extract_python_code(text):\n",
    "    def find_next_occurrence(target_string, start_index, substring):\n",
    "        try:\n",
    "            return target_string.index(substring, start_index)\n",
    "        except ValueError:\n",
    "            return -1\n",
    "    start_string = \"```python\\n\"\n",
    "    start_index = text.find(start_string) + len(start_string)\n",
    "    if start_index == -1 + len(start_string):\n",
    "        return \n",
    "    end_index = find_next_occurrence(text, start_index, \"```\")\n",
    "    if end_index == -1:\n",
    "        return \n",
    "    return text[start_index : end_index]"
   ]
  },
  {
   "cell_type": "code",
   "execution_count": 20,
   "metadata": {},
   "outputs": [
    {
     "name": "stdout",
     "output_type": "stream",
     "text": [
      "for i in range(10):  # First digit\n",
      "    for j in range(10):  # Second digit\n",
      "        for k in range(10):  # Third digit\n",
      "            # Checking for the conditions\n",
      "            if i != 5 and j != 5 and k != 5 and i != j and i != k and j != k:\n",
      "                print(i, j, k)\n",
      "\n"
     ]
    }
   ],
   "source": [
    "print(extract_python_code(ds[\"train\"]['output'][0]))"
   ]
  },
  {
   "cell_type": "code",
   "execution_count": 21,
   "metadata": {},
   "outputs": [],
   "source": [
    "python_snippets = [extract_python_code(text) for text in ds[\"train\"]['output'] if extract_python_code(text)]"
   ]
  },
  {
   "cell_type": "code",
   "execution_count": 27,
   "metadata": {},
   "outputs": [
    {
     "name": "stdout",
     "output_type": "stream",
     "text": [
      "65346\n"
     ]
    },
    {
     "data": {
      "text/plain": [
       "42054357"
      ]
     },
     "execution_count": 27,
     "metadata": {},
     "output_type": "execute_result"
    }
   ],
   "source": [
    "print(len(python_snippets))\n",
    "len(\"\".join(python_snippets))"
   ]
  },
  {
   "cell_type": "code",
   "execution_count": 28,
   "metadata": {},
   "outputs": [],
   "source": [
    "character_nums = [100, 1_000, 10_000]\n",
    "\n",
    "for character_num in character_nums:\n",
    "    \"\\n\\n\".join(python_snippets[:character_num])\n",
    "    random.shuffle(python_snippets)\n",
    "    with open(\n",
    "        f\"texts/python_snippets_{character_num}.txt\",\n",
    "        \"w\",\n",
    "    ) as file:\n",
    "        file.write(\"\\n\\n\".join(python_snippets[:character_num]))\n"
   ]
  },
  {
   "cell_type": "code",
   "execution_count": 29,
   "metadata": {},
   "outputs": [],
   "source": [
    "with open(\n",
    "    f\"texts/python_snippets.txt\",\n",
    "    \"w\",\n",
    ") as file:\n",
    "    file.write(\"\\n\\n\".join(python_snippets))"
   ]
  }
 ],
 "metadata": {
  "kernelspec": {
   "display_name": "Python 3",
   "language": "python",
   "name": "python3"
  },
  "language_info": {
   "codemirror_mode": {
    "name": "ipython",
    "version": 3
   },
   "file_extension": ".py",
   "mimetype": "text/x-python",
   "name": "python",
   "nbconvert_exporter": "python",
   "pygments_lexer": "ipython3",
   "version": "3.12.5"
  }
 },
 "nbformat": 4,
 "nbformat_minor": 2
}
